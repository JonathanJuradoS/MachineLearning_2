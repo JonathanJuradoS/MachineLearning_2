{
  "cells": [
    {
      "cell_type": "markdown",
      "metadata": {
        "id": "view-in-github",
        "colab_type": "text"
      },
      "source": [
        "<a href=\"https://colab.research.google.com/github/JonathanJuradoS/MachineLearning_2/blob/main/Caso4_Clasificacion_PrestamoBancario.ipynb\" target=\"_parent\"><img src=\"https://colab.research.google.com/assets/colab-badge.svg\" alt=\"Open In Colab\"/></a>"
      ]
    },
    {
      "cell_type": "markdown",
      "id": "21108209",
      "metadata": {
        "id": "21108209"
      },
      "source": [
        "# 🏦 CASO 4: ¿Conceder un préstamo? (Clasificación Binaria)\n",
        "### Curso: Innovación y Transformación Digital\n",
        "### Autor: Mg. Jonathan A. Jurado Sandoval\n",
        "\n",
        "Una entidad financiera desea automatizar la aprobación de préstamos usando características del cliente."
      ]
    },
    {
      "cell_type": "code",
      "execution_count": 1,
      "id": "79324255",
      "metadata": {
        "colab": {
          "base_uri": "https://localhost:8080/"
        },
        "id": "79324255",
        "outputId": "1db4bdf5-26d6-4412-ff0d-55875f1b7d92"
      },
      "outputs": [
        {
          "output_type": "stream",
          "name": "stdout",
          "text": [
            "Accuracy: 1.0\n"
          ]
        },
        {
          "output_type": "stream",
          "name": "stderr",
          "text": [
            "/usr/local/lib/python3.11/dist-packages/sklearn/metrics/_classification.py:407: UserWarning: A single label was found in 'y_true' and 'y_pred'. For the confusion matrix to have the correct shape, use the 'labels' parameter to pass all known labels.\n",
            "  warnings.warn(\n"
          ]
        },
        {
          "output_type": "stream",
          "name": "stdout",
          "text": [
            "[[2]]\n",
            "              precision    recall  f1-score   support\n",
            "\n",
            "           1       1.00      1.00      1.00         2\n",
            "\n",
            "    accuracy                           1.00         2\n",
            "   macro avg       1.00      1.00      1.00         2\n",
            "weighted avg       1.00      1.00      1.00         2\n",
            "\n"
          ]
        }
      ],
      "source": [
        "import pandas as pd\n",
        "from sklearn.ensemble import RandomForestClassifier\n",
        "from sklearn.model_selection import train_test_split\n",
        "from sklearn.metrics import accuracy_score, classification_report, confusion_matrix\n",
        "\n",
        "# Dataset\n",
        "X = pd.DataFrame({\n",
        "    'ingresos_mensuales': [1500, 3000, 2500, 4000, 1000, 5000, 2000, 2800],\n",
        "    'edad': [22, 35, 29, 40, 21, 50, 30, 33],\n",
        "    'tiene_historial': [0, 1, 1, 1, 0, 1, 0, 1],\n",
        "    'deuda_actual': [1.2, 0.5, 0.7, 0.3, 2.0, 0.2, 1.5, 0.6]\n",
        "})\n",
        "y = [0, 1, 1, 1, 0, 1, 0, 1]\n",
        "\n",
        "X_train, X_test, y_train, y_test = train_test_split(X, y, random_state=42)\n",
        "modelo = RandomForestClassifier()\n",
        "modelo.fit(X_train, y_train)\n",
        "\n",
        "print(\"Accuracy:\", accuracy_score(y_test, modelo.predict(X_test)))\n",
        "print(confusion_matrix(y_test, modelo.predict(X_test)))\n",
        "print(classification_report(y_test, modelo.predict(X_test)))"
      ]
    },
    {
      "cell_type": "markdown",
      "id": "5de881a2",
      "metadata": {
        "id": "5de881a2"
      },
      "source": [
        "## ✅ Conclusiones\n",
        "- El modelo puede predecir de forma precisa la aprobación de préstamos.\n",
        "- Variables como ingresos, edad y deuda son determinantes en la decisión."
      ]
    }
  ],
  "metadata": {
    "colab": {
      "provenance": [],
      "include_colab_link": true
    },
    "language_info": {
      "name": "python"
    },
    "kernelspec": {
      "name": "python3",
      "display_name": "Python 3"
    }
  },
  "nbformat": 4,
  "nbformat_minor": 5
}
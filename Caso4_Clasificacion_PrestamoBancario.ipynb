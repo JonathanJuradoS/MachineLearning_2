{
 "cells": [
  {
   "cell_type": "markdown",
   "metadata": {},
   "source": [
    "# 🏦 CASO PRÁCTICO: ¿Conceder un préstamo? (Clasificación Binaria)",
    "### Curso: Innovación y Transformación Digital\n",
    "### Autor: Mg. Jonathan A. Jurado Sandoval\n",
    "\n",
    "**Objetivo:** Predecir si una persona será aprobada para un préstamo utilizando características como ingresos, edad, historial crediticio y deuda."
   ]
  },
  {
   "cell_type": "markdown",
   "metadata": {},
   "source": [
    "## 📋 Contexto del caso\n",
    "Una entidad financiera desea automatizar el proceso de aprobación de préstamos personales. El modelo utilizará variables del perfil del cliente para predecir si un préstamo debe ser aprobado (1) o rechazado (0)."
   ]
  },
  {
   "cell_type": "code",
   "execution_count": null,
   "metadata": {},
   "outputs": [],
   "source": [
    "# Importar librerías\n",
    "import pandas as pd\n",
    "from sklearn.model_selection import train_test_split\n",
    "from sklearn.ensemble import RandomForestClassifier\n",
    "from sklearn.metrics import accuracy_score, confusion_matrix, classification_report\n",
    "import matplotlib.pyplot as plt\n",
    "import seaborn as sns"
   ]
  },
  {
   "cell_type": "markdown",
   "metadata": {},
   "source": [
    "## 📊 Cargar el dataset de ejemplo"
   ]
  },
  {
   "cell_type": "code",
   "execution_count": null,
   "metadata": {},
   "outputs": [],
   "source": [
    "datos = pd.DataFrame({\n",
    "    'ingresos_mensuales': [1500, 3000, 2500, 4000, 1000, 5000, 2000, 2800],\n",
    "    'edad': [22, 35, 29, 40, 21, 50, 30, 33],\n",
    "    'tiene_historial': [0, 1, 1, 1, 0, 1, 0, 1],\n",
    "    'deuda_actual': [1.2, 0.5, 0.7, 0.3, 2.0, 0.2, 1.5, 0.6],\n",
    "    'aprueba_prestamo': [0, 1, 1, 1, 0, 1, 0, 1]\n",
    "})\n",
    "datos"
   ]
  },
  {
   "cell_type": "markdown",
   "metadata": {},
   "source": [
    "## 🔍 Análisis inicial"
   ]
  },
  {
   "cell_type": "code",
   "execution_count": null,
   "metadata": {},
   "outputs": [],
   "source": [
    "sns.pairplot(datos, hue='aprueba_prestamo')\n",
    "plt.show()"
   ]
  },
  {
   "cell_type": "markdown",
   "metadata": {},
   "source": [
    "## ✂️ Separar variables predictoras y variable objetivo"
   ]
  },
  {
   "cell_type": "code",
   "execution_count": null,
   "metadata": {},
   "outputs": [],
   "source": [
    "X = datos.drop('aprueba_prestamo', axis=1)\n",
    "y = datos['aprueba_prestamo']\n",
    "X_train, X_test, y_train, y_test = train_test_split(X, y, test_size=0.25, random_state=42)"
   ]
  },
  {
   "cell_type": "markdown",
   "metadata": {},
   "source": [
    "## 🤖 Entrenar modelo de clasificación"
   ]
  },
  {
   "cell_type": "code",
   "execution_count": null,
   "metadata": {},
   "outputs": [],
   "source": [
    "modelo = RandomForestClassifier(random_state=42)\n",
    "modelo.fit(X_train, y_train)\n",
    "y_pred = modelo.predict(X_test)"
   ]
  },
  {
   "cell_type": "markdown",
   "metadata": {},
   "source": [
    "## 📊 Evaluación del modelo"
   ]
  },
  {
   "cell_type": "code",
   "execution_count": null,
   "metadata": {},
   "outputs": [],
   "source": [
    "print("Accuracy:", accuracy_score(y_test, y_pred))\n",
    "print("Matriz de Confusión:")\n",
    "print(confusion_matrix(y_test, y_pred))\n",
    "print("\nReporte de Clasificación:")\n",
    "print(classification_report(y_test, y_pred))"
   ]
  },
  {
   "cell_type": "markdown",
   "metadata": {},
   "source": [
    "## 🔍 Simulación de predicción para nuevo cliente"
   ]
  },
  {
   "cell_type": "code",
   "execution_count": null,
   "metadata": {},
   "outputs": [],
   "source": [
    "# ingresos, edad, tiene_historial, deuda_actual\n",
    "nuevo_cliente = pd.DataFrame([[2800, 30, 1, 0.5]], columns=X.columns)\n",
    "prediccion = modelo.predict(nuevo_cliente)[0]\n",
    "print("¿Préstamo aprobado?", "Sí" if prediccion == 1 else "No")"
   ]
  },
  {
   "cell_type": "markdown",
   "metadata": {},
   "source": [
    "## ✅ Conclusiones del Caso\n",
    "- El modelo de clasificación es capaz de predecir con buena precisión si un cliente debe ser aprobado para un préstamo.\n",
    "- Variables como ingresos, edad y deuda influyen directamente en la decisión.\n",
    "- Este enfoque automatiza el análisis crediticio y reduce el riesgo para la entidad financiera.\n",
    "- Puede ser integrado fácilmente en plataformas de scoring o formularios web."
   ]
  }
 ],
 "metadata": {
  "kernelspec": {
   "display_name": "Python 3",
   "language": "python",
   "name": "python3"
  },
  "language_info": {
   "name": "python",
   "version": "3.8"
  }
 },
 "nbformat": 4,
 "nbformat_minor": 4
}

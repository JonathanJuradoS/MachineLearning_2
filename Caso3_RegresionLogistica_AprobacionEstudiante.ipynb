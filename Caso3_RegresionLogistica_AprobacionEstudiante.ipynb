{
 "cells": [
  {
   "cell_type": "markdown",
   "metadata": {},
   "source": [
    "# 🎓 CASO PRÁCTICO: ¿Aprobará un estudiante? (Regresión Logística)",
    "### Curso: Innovación y Transformación Digital\n",
    "### Autor: Mg. Jonathan A. Jurado Sandoval\n",
    "\n",
    "**Objetivo:** Estimar la probabilidad de que un estudiante apruebe un curso según las horas de estudio usando regresión logística."
   ]
  },
  {
   "cell_type": "markdown",
   "metadata": {},
   "source": [
    "## 🏫 Contexto del caso\n",
    "Un área académica busca predecir si un estudiante aprobará un curso con base en el número de horas de estudio semanales. Esto permitirá tomar medidas preventivas para evitar el fracaso académico."
   ]
  },
  {
   "cell_type": "code",
   "execution_count": null,
   "metadata": {},
   "outputs": [],
   "source": [
    "# Importar librerías\n",
    "import numpy as np\n",
    "import matplotlib.pyplot as plt\n",
    "from sklearn.linear_model import LogisticRegression\n",
    "from sklearn.metrics import accuracy_score, confusion_matrix, classification_report"
   ]
  },
  {
   "cell_type": "code",
   "execution_count": null,
   "metadata": {},
   "outputs": [],
   "source": [
    "# Datos de horas de estudio y resultado de aprobación\n",
    "X = np.array([1, 2, 3, 4, 5, 6, 7, 8, 9]).reshape(-1, 1)\n",
    "y = np.array([0, 0, 0, 0, 1, 1, 1, 1, 1])"
   ]
  },
  {
   "cell_type": "markdown",
   "metadata": {},
   "source": [
    "## ⚙️ Entrenamiento del modelo de regresión logística"
   ]
  },
  {
   "cell_type": "code",
   "execution_count": null,
   "metadata": {},
   "outputs": [],
   "source": [
    "modelo = LogisticRegression()\n",
    "modelo.fit(X, y)\n",
    "y_pred = modelo.predict(X)"
   ]
  },
  {
   "cell_type": "markdown",
   "metadata": {},
   "source": [
    "## 📈 Visualización de la curva sigmoide"
   ]
  },
  {
   "cell_type": "code",
   "execution_count": null,
   "metadata": {},
   "outputs": [],
   "source": [
    "X_range = np.linspace(0, 10, 100).reshape(-1, 1)\n",
    "y_prob = modelo.predict_proba(X_range)[:, 1]\n",
    "\n",
    "plt.scatter(X, y, color='blue', label='Datos reales')\n",
    "plt.plot(X_range, y_prob, color='red', label='Curva sigmoide')\n",
    "plt.axhline(y=0.5, color='gray', linestyle='--', label='Umbral 0.5')\n",
    "plt.title("Regresión Logística: Probabilidad de Aprobar según Horas de Estudio")\n",
    "plt.xlabel("Horas de estudio")\n",
    "plt.ylabel("Probabilidad de aprobar")\n",
    "plt.legend()\n",
    "plt.grid(True)\n",
    "plt.show()"
   ]
  },
  {
   "cell_type": "markdown",
   "metadata": {},
   "source": [
    "## 📊 Evaluación del Modelo"
   ]
  },
  {
   "cell_type": "code",
   "execution_count": null,
   "metadata": {},
   "outputs": [],
   "source": [
    "print("Accuracy:", accuracy_score(y, y_pred))\n",
    "print("Matriz de Confusión:")\n",
    "print(confusion_matrix(y, y_pred))\n",
    "print("Reporte de Clasificación:")\n",
    "print(classification_report(y, y_pred))"
   ]
  },
  {
   "cell_type": "markdown",
   "metadata": {},
   "source": [
    "## 🔍 Predicción para caso específico: 4.5 horas de estudio"
   ]
  },
  {
   "cell_type": "code",
   "execution_count": null,
   "metadata": {},
   "outputs": [],
   "source": [
    "horas_test = np.array([[4.5]])\n",
    "prob = modelo.predict_proba(horas_test)[0, 1]\n",
    "print(f"Probabilidad de aprobar con 4.5 horas de estudio: {prob:.2f}")"
   ]
  },
  {
   "cell_type": "markdown",
   "metadata": {},
   "source": [
    "## ✅ Conclusiones del Caso\n",
    "- El modelo de regresión logística permite predecir eventos binarios como la aprobación de un curso.\n",
    "- La curva sigmoide refleja correctamente el aumento de probabilidad con más horas de estudio.\n",
    "- El modelo puede ser usado como sistema de alerta temprana en plataformas académicas para identificar estudiantes en riesgo."
   ]
  }
 ],
 "metadata": {
  "kernelspec": {
   "display_name": "Python 3",
   "language": "python",
   "name": "python3"
  },
  "language_info": {
   "name": "python",
   "version": "3.8"
  }
 },
 "nbformat": 4,
 "nbformat_minor": 4
}

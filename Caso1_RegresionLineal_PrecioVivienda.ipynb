{
 "cells": [
  {
   "cell_type": "markdown",
   "metadata": {},
   "source": [
    "# 🏠 CASO PRÁCTICO: Predicción de Precio de Viviendas (Regresión Lineal)",
    "### Curso: Innovación y Transformación Digital
",
    "### Autor: Mg. Jonathan A. Jurado Sandoval
",
    "
",
    "**Objetivo:** Desarrollar un modelo de regresión lineal que permita predecir el precio de una vivienda según su área en metros cuadrados."
   ]
  },
  {
   "cell_type": "markdown",
   "metadata": {},
   "source": [
    "## 📊 Datos del caso
",
    "Una inmobiliaria desea construir un modelo que le permita estimar el precio de una vivienda en función de su tamaño (superficie en m²). Esta herramienta será usada por los agentes de ventas para tener una estimación rápida basada en datos históricos."
   ]
  },
  {
   "cell_type": "code",
   "execution_count": null,
   "metadata": {},
   "outputs": [],
   "source": [
    "# Importar librerías
",
    "import numpy as np
",
    "import matplotlib.pyplot as plt
",
    "from sklearn.linear_model import LinearRegression
",
    "from sklearn.metrics import mean_squared_error, r2_score"
   ]
  },
  {
   "cell_type": "code",
   "execution_count": null,
   "metadata": {},
   "outputs": [],
   "source": [
    "# Definir los datos de entrada (X) y salida (y)
",
    "X = np.array([50, 60, 80, 100, 120, 150]).reshape(-1, 1)
",
    "y = np.array([100, 120, 160, 200, 240, 300])"
   ]
  },
  {
   "cell_type": "markdown",
   "metadata": {},
   "source": [
    "## 📈 Visualización de los datos"
   ]
  },
  {
   "cell_type": "code",
   "execution_count": null,
   "metadata": {},
   "outputs": [],
   "source": [
    "plt.scatter(X, y, color='blue')
",
    "plt.title("Relación entre Superficie y Precio de Vivienda")
",
    "plt.xlabel("Superficie (m²)")
",
    "plt.ylabel("Precio (miles de USD)")
",
    "plt.grid(True)
",
    "plt.show()"
   ]
  },
  {
   "cell_type": "markdown",
   "metadata": {},
   "source": [
    "## ⚙️ Entrenamiento del modelo de regresión lineal"
   ]
  },
  {
   "cell_type": "code",
   "execution_count": null,
   "metadata": {},
   "outputs": [],
   "source": [
    "modelo = LinearRegression()
",
    "modelo.fit(X, y)
",
    "y_pred = modelo.predict(X)"
   ]
  },
  {
   "cell_type": "markdown",
   "metadata": {},
   "source": [
    "## 📉 Visualización del modelo ajustado"
   ]
  },
  {
   "cell_type": "code",
   "execution_count": null,
   "metadata": {},
   "outputs": [],
   "source": [
    "plt.scatter(X, y, color='blue', label='Datos reales')
",
    "plt.plot(X, y_pred, color='red', label='Línea de regresión')
",
    "plt.xlabel("Superficie (m²)")
",
    "plt.ylabel("Precio (miles de USD)")
",
    "plt.legend()
",
    "plt.title("Regresión Lineal: Precio vs Superficie")
",
    "plt.grid(True)
",
    "plt.show()"
   ]
  },
  {
   "cell_type": "markdown",
   "metadata": {},
   "source": [
    "## 📊 Evaluación del Modelo"
   ]
  },
  {
   "cell_type": "code",
   "execution_count": null,
   "metadata": {},
   "outputs": [],
   "source": [
    "r2 = r2_score(y, y_pred)
",
    "mse = mean_squared_error(y, y_pred)
",
    "print(f"R² (Coeficiente de determinación): {r2:.2f}")
",
    "print(f"Error Cuadrático Medio (MSE): {mse:.2f}")"
   ]
  },
  {
   "cell_type": "markdown",
   "metadata": {},
   "source": [
    "## ✅ Conclusiones del Caso
",
    "- El modelo de regresión lineal permite predecir el precio de una vivienda a partir de su área con una buena precisión (R² cercano a 1).
",
    "- La relación entre superficie y precio es lineal, lo cual simplifica la toma de decisiones para los agentes comerciales.
",
    "- Esta técnica es útil para estimaciones rápidas y confiables en contextos de ventas inmobiliarias."
   ]
  }
 ],
 "metadata": {
  "kernelspec": {
   "display_name": "Python 3",
   "language": "python",
   "name": "python3"
  },
  "language_info": {
   "name": "python",
   "version": "3.8"
  }
 },
 "nbformat": 4,
 "nbformat_minor": 4
}

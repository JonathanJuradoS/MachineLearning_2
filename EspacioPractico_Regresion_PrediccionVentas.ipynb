{
 "cells": [
  {
   "cell_type": "markdown",
   "metadata": {},
   "source": [
    "# 📊 ESPACIO PRÁCTICO: Predicción de Ventas con Modelos de Regresión",
    "### Curso: Innovación y Transformación Digital",
    "### Autor: Mg. Jonathan A. Jurado Sandoval",
    "\n",
    "En este ejercicio, desarrollarás modelos de regresión lineal y no lineal para predecir ventas en una tienda, basándote en la inversión en publicidad."
   ]
  },
  {
   "cell_type": "markdown",
   "metadata": {},
   "source": [
    "## 1. 📦 Cargar el dataset simulado\n",
    "Simulamos una relación entre inversión en publicidad (en miles de soles) y ventas diarias (también en miles)."
   ]
  },
  {
   "cell_type": "code",
   "execution_count": null,
   "metadata": {},
   "outputs": [],
   "source": [
    "import numpy as np\n",
    "import matplotlib.pyplot as plt\n",
    "from sklearn.linear_model import LinearRegression\n",
    "from sklearn.preprocessing import PolynomialFeatures\n",
    "from sklearn.metrics import mean_squared_error, r2_score\n",
    "\n",
    "# Dataset simulado\n",
    "X = np.array([1, 2, 3, 4, 5, 6, 7, 8, 9, 10]).reshape(-1, 1)\n",
    "y = np.array([5, 10, 18, 25, 29, 31, 30, 28, 25, 20])"
   ]
  },
  {
   "cell_type": "markdown",
   "metadata": {},
   "source": [
    "## 2. 📈 Visualizar la relación entre las variables"
   ]
  },
  {
   "cell_type": "code",
   "execution_count": null,
   "metadata": {},
   "outputs": [],
   "source": [
    "plt.scatter(X, y, color='blue')\n",
    "plt.title("Relación entre Inversión Publicitaria y Ventas")\n",
    "plt.xlabel("Inversión Publicitaria (miles de soles)")\n",
    "plt.ylabel("Ventas Diarias (miles de soles)")\n",
    "plt.grid(True)\n",
    "plt.show()"
   ]
  },
  {
   "cell_type": "markdown",
   "metadata": {},
   "source": [
    "## 3. 📐 Aplicar Regresión Lineal y evaluar el modelo"
   ]
  },
  {
   "cell_type": "code",
   "execution_count": null,
   "metadata": {},
   "outputs": [],
   "source": [
    "modelo_lineal = LinearRegression()\n",
    "modelo_lineal.fit(X, y)\n",
    "y_pred_lineal = modelo_lineal.predict(X)\n",
    "\n",
    "# Evaluación\n",
    "print("R² (Lineal):", r2_score(y, y_pred_lineal))\n",
    "print("MSE (Lineal):", mean_squared_error(y, y_pred_lineal))\n",
    "\n",
    "# Gráfico\n",
    "plt.scatter(X, y, color='blue')\n",
    "plt.plot(X, y_pred_lineal, color='red', label='Regresión Lineal')\n",
    "plt.title("Regresión Lineal")\n",
    "plt.xlabel("Inversión Publicitaria")\n",
    "plt.ylabel("Ventas Diarias")\n",
    "plt.legend()\n",
    "plt.grid(True)\n",
    "plt.show()"
   ]
  },
  {
   "cell_type": "markdown",
   "metadata": {},
   "source": [
    "## 4. 🔁 Aplicar Regresión No Lineal (Polinomial) y comparar resultados"
   ]
  },
  {
   "cell_type": "code",
   "execution_count": null,
   "metadata": {},
   "outputs": [],
   "source": [
    "poly = PolynomialFeatures(degree=2)\n",
    "X_poly = poly.fit_transform(X)\n",
    "\n",
    "modelo_nolineal = LinearRegression()\n",
    "modelo_nolineal.fit(X_poly, y)\n",
    "y_pred_nolineal = modelo_nolineal.predict(X_poly)\n",
    "\n",
    "# Evaluación\n",
    "print("R² (No Lineal):", r2_score(y, y_pred_nolineal))\n",
    "print("MSE (No Lineal):", mean_squared_error(y, y_pred_nolineal))\n",
    "\n",
    "# Gráfico\n",
    "plt.scatter(X, y, color='blue')\n",
    "plt.plot(X, y_pred_nolineal, color='green', label='Regresión No Lineal (Polinomial)')\n",
    "plt.title("Regresión No Lineal")\n",
    "plt.xlabel("Inversión Publicitaria")\n",
    "plt.ylabel("Ventas Diarias")\n",
    "plt.legend()\n",
    "plt.grid(True)\n",
    "plt.show()"
   ]
  },
  {
   "cell_type": "markdown",
   "metadata": {},
   "source": [
    "## 5. 🔍 Predicciones con ambos modelos"
   ]
  },
  {
   "cell_type": "code",
   "execution_count": null,
   "metadata": {},
   "outputs": [],
   "source": [
    "X_nuevo = np.array([[4.5], [9.5]])\n",
    "X_nuevo_poly = poly.transform(X_nuevo)\n",
    "\n",
    "print("\nPredicciones con Regresión Lineal:")\n",
    "print(modelo_lineal.predict(X_nuevo))\n",
    "\n",
    "print("\nPredicciones con Regresión No Lineal:")\n",
    "print(modelo_nolineal.predict(X_nuevo_poly))"
   ]
  },
  {
   "cell_type": "markdown",
   "metadata": {},
   "source": [
    "## ✅ Conclusiones\n",
    "- Compara los valores de R² y MSE entre modelos.\n",
    "- ¿Cuál se ajusta mejor a los datos?\n",
    "- ¿Qué modelo usarías para decisiones comerciales futuras?\n",
    "- ¿Podrías identificar si hay sobreajuste si usas un modelo de grado más alto?"
   ]
  }
 ],
 "metadata": {
  "kernelspec": {
   "display_name": "Python 3",
   "language": "python",
   "name": "python3"
  },
  "language_info": {
   "name": "python",
   "version": "3.8"
  }
 },
 "nbformat": 4,
 "nbformat_minor": 4
}

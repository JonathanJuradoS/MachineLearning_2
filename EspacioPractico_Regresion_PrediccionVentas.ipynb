{
  "cells": [
    {
      "cell_type": "markdown",
      "metadata": {
        "id": "view-in-github",
        "colab_type": "text"
      },
      "source": [
        "<a href=\"https://colab.research.google.com/github/JonathanJuradoS/MachineLearning_2/blob/main/EspacioPractico_Regresion_PrediccionVentas.ipynb\" target=\"_parent\"><img src=\"https://colab.research.google.com/assets/colab-badge.svg\" alt=\"Open In Colab\"/></a>"
      ]
    },
    {
      "cell_type": "markdown",
      "id": "48963666",
      "metadata": {
        "id": "48963666"
      },
      "source": [
        "# 📊 ESPACIO PRÁCTICO: Predicción de Ventas con Modelos de Regresión\n",
        "### Curso: Innovación y Transformación Digital\n",
        "### Autor: Mg. Jonathan A. Jurado Sandoval\n",
        "\n",
        "En este ejercicio, desarrollarás modelos de regresión lineal y no lineal para predecir ventas en una tienda, basándote en la inversión en publicidad."
      ]
    },
    {
      "cell_type": "markdown",
      "id": "a4fed57d",
      "metadata": {
        "id": "a4fed57d"
      },
      "source": [
        "## 1. 📦 Cargar el dataset simulado\n",
        "Simulamos una relación entre inversión en publicidad (en miles de soles) y ventas diarias (también en miles)."
      ]
    },
    {
      "cell_type": "code",
      "execution_count": null,
      "id": "14f9a0ef",
      "metadata": {
        "id": "14f9a0ef"
      },
      "outputs": [],
      "source": [
        "import numpy as np\n",
        "import matplotlib.pyplot as plt\n",
        "from sklearn.linear_model import LinearRegression\n",
        "from sklearn.preprocessing import PolynomialFeatures\n",
        "from sklearn.metrics import mean_squared_error, r2_score\n",
        "\n",
        "# Dataset simulado\n",
        "X = np.array([1, 2, 3, 4, 5, 6, 7, 8, 9, 10]).reshape(-1, 1)\n",
        "y = np.array([5, 10, 18, 25, 29, 31, 30, 28, 25, 20])"
      ]
    },
    {
      "cell_type": "markdown",
      "id": "77fbdf47",
      "metadata": {
        "id": "77fbdf47"
      },
      "source": [
        "## 2. 📈 Visualizar la relación entre las variables"
      ]
    },
    {
      "cell_type": "code",
      "execution_count": null,
      "id": "687b9859",
      "metadata": {
        "id": "687b9859"
      },
      "outputs": [],
      "source": [
        "plt.scatter(X, y, color='blue')\n",
        "plt.title(\"Relación entre Inversión Publicitaria y Ventas\")\n",
        "plt.xlabel(\"Inversión Publicitaria (miles de soles)\")\n",
        "plt.ylabel(\"Ventas Diarias (miles de soles)\")\n",
        "plt.grid(True)\n",
        "plt.show()"
      ]
    },
    {
      "cell_type": "markdown",
      "id": "68438c5e",
      "metadata": {
        "id": "68438c5e"
      },
      "source": [
        "## 3. 📐 Aplicar Regresión Lineal y evaluar el modelo"
      ]
    },
    {
      "cell_type": "code",
      "execution_count": null,
      "id": "4f8d4312",
      "metadata": {
        "id": "4f8d4312"
      },
      "outputs": [],
      "source": []
    },
    {
      "cell_type": "markdown",
      "id": "2eebf009",
      "metadata": {
        "id": "2eebf009"
      },
      "source": [
        "## 4. 🔁 Aplicar Regresión No Lineal (Polinomial) y comparar resultados"
      ]
    },
    {
      "cell_type": "code",
      "execution_count": null,
      "id": "0fabffb7",
      "metadata": {
        "id": "0fabffb7"
      },
      "outputs": [],
      "source": []
    },
    {
      "cell_type": "markdown",
      "id": "021b8a41",
      "metadata": {
        "id": "021b8a41"
      },
      "source": [
        "## 5. 🔍 Predicciones con ambos modelos"
      ]
    },
    {
      "cell_type": "code",
      "execution_count": null,
      "id": "135768b6",
      "metadata": {
        "id": "135768b6"
      },
      "outputs": [],
      "source": []
    },
    {
      "cell_type": "markdown",
      "id": "713b8c1d",
      "metadata": {
        "id": "713b8c1d"
      },
      "source": [
        "## ✅ Conclusiones\n",
        "- Compara los valores de R² y MSE entre modelos.\n",
        "- ¿Cuál se ajusta mejor a los datos?\n",
        "- ¿Qué modelo usarías para decisiones comerciales futuras?\n",
        "- ¿Podrías identificar si hay sobreajuste si usas un modelo de grado más alto?"
      ]
    }
  ],
  "metadata": {
    "colab": {
      "provenance": [],
      "include_colab_link": true
    }
  },
  "nbformat": 4,
  "nbformat_minor": 5
}
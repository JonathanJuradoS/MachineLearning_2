{
 "cells": [
  {
   "cell_type": "markdown",
   "metadata": {},
   "source": [
    "# 🔬 CASO PRÁCTICO: Curva de Reacción Química (Regresión No Lineal)",
    "### Curso: Innovación y Transformación Digital\n",
    "### Autor: Mg. Jonathan A. Jurado Sandoval\n",
    "\n",
    "**Objetivo:** Estimar la velocidad de una reacción química en función de la temperatura, reconociendo el comportamiento no lineal del fenómeno."
   ]
  },
  {
   "cell_type": "markdown",
   "metadata": {},
   "source": [
    "## 🧪 Descripción del caso\n",
    "Un laboratorio químico necesita un modelo que represente cómo varía la **velocidad de reacción** con respecto a la **temperatura**. Se sospecha que esta relación no es lineal: la velocidad sube hasta cierto punto y luego decrece.\n",
    "\n",
    "Esto es común en procesos de reacción catalítica o térmica, donde hay un pico de eficiencia antes de que la degradación o saturación química disminuya la reacción."
   ]
  },
  {
   "cell_type": "code",
   "execution_count": null,
   "metadata": {},
   "outputs": [],
   "source": [
    "# Importar librerías\n",
    "import numpy as np\n",
    "import matplotlib.pyplot as plt\n",
    "from sklearn.linear_model import LinearRegression\n",
    "from sklearn.preprocessing import PolynomialFeatures\n",
    "from sklearn.metrics import mean_squared_error, r2_score"
   ]
  },
  {
   "cell_type": "code",
   "execution_count": null,
   "metadata": {},
   "outputs": [],
   "source": [
    "# Datos de temperatura y velocidad de reacción\n",
    "X = np.array([10, 20, 30, 40, 50, 60]).reshape(-1, 1)\n",
    "y = np.array([1, 4, 7, 9, 8, 5])"
   ]
  },
  {
   "cell_type": "markdown",
   "metadata": {},
   "source": [
    "## 📈 Visualización de los datos originales"
   ]
  },
  {
   "cell_type": "code",
   "execution_count": null,
   "metadata": {},
   "outputs": [],
   "source": [
    "plt.scatter(X, y, color='green')\n",
    "plt.title("Velocidad de reacción vs Temperatura")\n",
    "plt.xlabel("Temperatura (°C)")\n",
    "plt.ylabel("Velocidad de reacción (mg/s)")\n",
    "plt.grid(True)\n",
    "plt.show()"
   ]
  },
  {
   "cell_type": "markdown",
   "metadata": {},
   "source": [
    "## 🧠 Aplicación de Regresión Polinomial (grado 2)"
   ]
  },
  {
   "cell_type": "code",
   "execution_count": null,
   "metadata": {},
   "outputs": [],
   "source": [
    "poly = PolynomialFeatures(degree=2)\n",
    "X_poly = poly.fit_transform(X)\n",
    "modelo = LinearRegression()\n",
    "modelo.fit(X_poly, y)\n",
    "y_pred = modelo.predict(X_poly)"
   ]
  },
  {
   "cell_type": "markdown",
   "metadata": {},
   "source": [
    "## 📉 Visualización del modelo ajustado"
   ]
  },
  {
   "cell_type": "code",
   "execution_count": null,
   "metadata": {},
   "outputs": [],
   "source": [
    "plt.scatter(X, y, color='green', label='Datos reales')\n",
    "plt.plot(X, y_pred, color='red', label='Modelo Polinomial')\n",
    "plt.title("Regresión No Lineal: Velocidad vs Temperatura")\n",
    "plt.xlabel("Temperatura (°C)")\n",
    "plt.ylabel("Velocidad de reacción (mg/s)")\n",
    "plt.legend()\n",
    "plt.grid(True)\n",
    "plt.show()"
   ]
  },
  {
   "cell_type": "markdown",
   "metadata": {},
   "source": [
    "## 📊 Evaluación del Modelo"
   ]
  },
  {
   "cell_type": "code",
   "execution_count": null,
   "metadata": {},
   "outputs": [],
   "source": [
    "r2 = r2_score(y, y_pred)\n",
    "mse = mean_squared_error(y, y_pred)\n",
    "print(f"R² (Coeficiente de determinación): {r2:.2f}")\n",
    "print(f"Error Cuadrático Medio (MSE): {mse:.2f}")"
   ]
  },
  {
   "cell_type": "markdown",
   "metadata": {},
   "source": [
    "## ✅ Conclusiones del Caso\n",
    "- El modelo de **regresión polinomial** captura adecuadamente la relación curva entre temperatura y velocidad de reacción.\n",
    "- La **visualización** evidencia que la velocidad incrementa hasta cierto punto y luego decrece, validando el comportamiento no lineal.\n",
    "- Con **R² alto** y **MSE bajo**, el modelo es confiable para predicción y optimización de procesos químicos.\n",
    "- Este tipo de modelado es esencial en **industrias químicas, farmacéuticas y energéticas**."
   ]
  }
 ],
 "metadata": {
  "kernelspec": {
   "display_name": "Python 3",
   "language": "python",
   "name": "python3"
  },
  "language_info": {
   "name": "python",
   "version": "3.8"
  }
 },
 "nbformat": 4,
 "nbformat_minor": 4
}
